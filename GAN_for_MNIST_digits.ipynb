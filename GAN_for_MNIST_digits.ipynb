{
  "nbformat": 4,
  "nbformat_minor": 0,
  "metadata": {
    "colab": {
      "name": "GAN for MNIST digits.ipynb",
      "version": "0.3.2",
      "provenance": [],
      "collapsed_sections": [],
      "include_colab_link": true
    },
    "kernelspec": {
      "name": "python3",
      "display_name": "Python 3"
    },
    "accelerator": "GPU"
  },
  "cells": [
    {
      "cell_type": "markdown",
      "metadata": {
        "id": "view-in-github",
        "colab_type": "text"
      },
      "source": [
        "<a href=\"https://colab.research.google.com/github/shikharsrivastava23/Tensorflow_tut/blob/master/GAN_for_MNIST_digits.ipynb\" target=\"_parent\"><img src=\"https://colab.research.google.com/assets/colab-badge.svg\" alt=\"Open In Colab\"/></a>"
      ]
    },
    {
      "cell_type": "code",
      "metadata": {
        "id": "Yjlbtm3gR3cn",
        "colab_type": "code",
        "colab": {}
      },
      "source": [
        "import tensorflow as tf\n",
        "import numpy as np\n",
        "import matplotlib.pyplot as plt\n",
        "%matplotlib inline"
      ],
      "execution_count": 0,
      "outputs": []
    },
    {
      "cell_type": "code",
      "metadata": {
        "id": "EDXriVnESB_7",
        "colab_type": "code",
        "colab": {}
      },
      "source": [
        "from tensorflow.examples.tutorials.mnist import input_data"
      ],
      "execution_count": 0,
      "outputs": []
    },
    {
      "cell_type": "code",
      "metadata": {
        "id": "BI9WTeUJT5FE",
        "colab_type": "code",
        "outputId": "5f4c46d7-b79c-4885-a7f2-f9ab6fbe1520",
        "colab": {
          "base_uri": "https://localhost:8080/",
          "height": 582
        }
      },
      "source": [
        "mnist = input_data.read_data_sets(\"MNIST_data/\", one_hot=True)"
      ],
      "execution_count": 3,
      "outputs": [
        {
          "output_type": "stream",
          "text": [
            "WARNING: Logging before flag parsing goes to stderr.\n",
            "W0807 04:48:41.760225 140644722308992 deprecation.py:323] From <ipython-input-3-a839aeb82f4b>:1: read_data_sets (from tensorflow.contrib.learn.python.learn.datasets.mnist) is deprecated and will be removed in a future version.\n",
            "Instructions for updating:\n",
            "Please use alternatives such as official/mnist/dataset.py from tensorflow/models.\n",
            "W0807 04:48:41.764872 140644722308992 deprecation.py:323] From /usr/local/lib/python3.6/dist-packages/tensorflow/contrib/learn/python/learn/datasets/mnist.py:260: maybe_download (from tensorflow.contrib.learn.python.learn.datasets.base) is deprecated and will be removed in a future version.\n",
            "Instructions for updating:\n",
            "Please write your own downloading logic.\n",
            "W0807 04:48:41.773767 140644722308992 deprecation.py:323] From /usr/local/lib/python3.6/dist-packages/tensorflow/contrib/learn/python/learn/datasets/base.py:252: _internal_retry.<locals>.wrap.<locals>.wrapped_fn (from tensorflow.contrib.learn.python.learn.datasets.base) is deprecated and will be removed in a future version.\n",
            "Instructions for updating:\n",
            "Please use urllib or similar directly.\n",
            "W0807 04:48:41.868666 140644722308992 deprecation.py:323] From /usr/local/lib/python3.6/dist-packages/tensorflow/contrib/learn/python/learn/datasets/mnist.py:262: extract_images (from tensorflow.contrib.learn.python.learn.datasets.mnist) is deprecated and will be removed in a future version.\n",
            "Instructions for updating:\n",
            "Please use tf.data to implement this functionality.\n"
          ],
          "name": "stderr"
        },
        {
          "output_type": "stream",
          "text": [
            "Successfully downloaded train-images-idx3-ubyte.gz 9912422 bytes.\n",
            "Extracting MNIST_data/train-images-idx3-ubyte.gz\n"
          ],
          "name": "stdout"
        },
        {
          "output_type": "stream",
          "text": [
            "W0807 04:48:42.149105 140644722308992 deprecation.py:323] From /usr/local/lib/python3.6/dist-packages/tensorflow/contrib/learn/python/learn/datasets/mnist.py:267: extract_labels (from tensorflow.contrib.learn.python.learn.datasets.mnist) is deprecated and will be removed in a future version.\n",
            "Instructions for updating:\n",
            "Please use tf.data to implement this functionality.\n",
            "W0807 04:48:42.151986 140644722308992 deprecation.py:323] From /usr/local/lib/python3.6/dist-packages/tensorflow/contrib/learn/python/learn/datasets/mnist.py:110: dense_to_one_hot (from tensorflow.contrib.learn.python.learn.datasets.mnist) is deprecated and will be removed in a future version.\n",
            "Instructions for updating:\n",
            "Please use tf.one_hot on tensors.\n",
            "W0807 04:48:42.238329 140644722308992 deprecation.py:323] From /usr/local/lib/python3.6/dist-packages/tensorflow/contrib/learn/python/learn/datasets/mnist.py:290: DataSet.__init__ (from tensorflow.contrib.learn.python.learn.datasets.mnist) is deprecated and will be removed in a future version.\n",
            "Instructions for updating:\n",
            "Please use alternatives such as official/mnist/dataset.py from tensorflow/models.\n"
          ],
          "name": "stderr"
        },
        {
          "output_type": "stream",
          "text": [
            "Successfully downloaded train-labels-idx1-ubyte.gz 28881 bytes.\n",
            "Extracting MNIST_data/train-labels-idx1-ubyte.gz\n",
            "Successfully downloaded t10k-images-idx3-ubyte.gz 1648877 bytes.\n",
            "Extracting MNIST_data/t10k-images-idx3-ubyte.gz\n",
            "Successfully downloaded t10k-labels-idx1-ubyte.gz 4542 bytes.\n",
            "Extracting MNIST_data/t10k-labels-idx1-ubyte.gz\n"
          ],
          "name": "stdout"
        }
      ]
    },
    {
      "cell_type": "code",
      "metadata": {
        "id": "2AecYcFOUDra",
        "colab_type": "code",
        "outputId": "0454f826-e8ed-46d8-9c4d-fe8da165b097",
        "colab": {
          "base_uri": "https://localhost:8080/",
          "height": 287
        }
      },
      "source": [
        "plt.imshow(mnist.train.images[42].reshape(28,28))"
      ],
      "execution_count": 4,
      "outputs": [
        {
          "output_type": "execute_result",
          "data": {
            "text/plain": [
              "<matplotlib.image.AxesImage at 0x7fea0f0d6898>"
            ]
          },
          "metadata": {
            "tags": []
          },
          "execution_count": 4
        },
        {
          "output_type": "display_data",
          "data": {
            "image/png": "[encoded data removed]",
            "text/plain": [
              "<Figure size 432x288 with 1 Axes>"
            ]
          },
          "metadata": {
            "tags": []
          }
        }
      ]
    },
    {
      "cell_type": "code",
      "metadata": {
        "id": "-jg8zBXYV13r",
        "colab_type": "code",
        "colab": {}
      },
      "source": [
        "def generator(z,reuse=None):\n",
        "    with tf.variable_scope('gen',reuse=reuse):\n",
        "        hidden1 = tf.layers.dense(inputs=z,units=128)\n",
        "        # Leaky Relu\n",
        "        alpha = 0.01\n",
        "        hidden1 = tf.maximum(alpha*hidden1,hidden1)\n",
        "        hidden2 = tf.layers.dense(inputs=hidden1,units=128)\n",
        "        \n",
        "        hidden2 = tf.maximum(alpha*hidden2,hidden2)\n",
        "        output = tf.layers.dense(hidden2,units=784,activation=tf.nn.tanh)\n",
        "        return output"
      ],
      "execution_count": 0,
      "outputs": []
    },
    {
      "cell_type": "code",
      "metadata": {
        "id": "2WcZrIYEWpbQ",
        "colab_type": "code",
        "colab": {}
      },
      "source": [
        "def discriminator(X,reuse=None):\n",
        "    with tf.variable_scope('dis',reuse=reuse):\n",
        "        hidden1 = tf.layers.dense(inputs=X,units=128)\n",
        "        # Leaky Relu\n",
        "        alpha = 0.01\n",
        "        hidden1 = tf.maximum(alpha*hidden1,hidden1)\n",
        "        \n",
        "        hidden2 = tf.layers.dense(inputs=hidden1,units=128)\n",
        "        hidden2 = tf.maximum(alpha*hidden2,hidden2)\n",
        "        \n",
        "        logits = tf.layers.dense(hidden2,units=1)\n",
        "        output = tf.sigmoid(logits)\n",
        "    \n",
        "        return output, logits"
      ],
      "execution_count": 0,
      "outputs": []
    },
    {
      "cell_type": "code",
      "metadata": {
        "id": "CWPrsGZBvCLu",
        "colab_type": "code",
        "colab": {}
      },
      "source": [
        "tf.reset_default_graph()"
      ],
      "execution_count": 0,
      "outputs": []
    },
    {
      "cell_type": "code",
      "metadata": {
        "id": "h3gu4pCsW8Oz",
        "colab_type": "code",
        "colab": {}
      },
      "source": [
        "real_images = tf.placeholder(tf.float32,shape=[None,784])\n",
        "z = tf.placeholder(tf.float32,shape=[None,100])"
      ],
      "execution_count": 0,
      "outputs": []
    },
    {
      "cell_type": "code",
      "metadata": {
        "id": "wMNYAvwjXQ35",
        "colab_type": "code",
        "colab": {}
      },
      "source": [
        "G = generator(z)\n",
        "D_output_real , D_logits_real = discriminator(real_images)\n",
        "D_output_fake, D_logits_fake = discriminator(G,reuse=True)"
      ],
      "execution_count": 0,
      "outputs": []
    },
    {
      "cell_type": "code",
      "metadata": {
        "id": "EzdKxphkXp6Y",
        "colab_type": "code",
        "colab": {}
      },
      "source": [
        "def loss_func(logits_in,labels_in):\n",
        "    return tf.reduce_mean(tf.nn.sigmoid_cross_entropy_with_logits(logits=logits_in,labels=labels_in))\n"
      ],
      "execution_count": 0,
      "outputs": []
    },
    {
      "cell_type": "code",
      "metadata": {
        "id": "IkZ_KKXpYA6M",
        "colab_type": "code",
        "colab": {}
      },
      "source": [
        "D_real_loss = loss_func(D_logits_real,tf.ones_like(D_logits_real)* (0.9))\n",
        "D_fake_loss = loss_func(D_logits_fake,tf.zeros_like(D_logits_real))\n",
        "D_loss = D_real_loss + D_fake_loss"
      ],
      "execution_count": 0,
      "outputs": []
    },
    {
      "cell_type": "code",
      "metadata": {
        "id": "ic51VBcxYkXZ",
        "colab_type": "code",
        "colab": {}
      },
      "source": [
        "G_loss = loss_func(D_logits_fake,tf.ones_like(D_logits_fake))"
      ],
      "execution_count": 0,
      "outputs": []
    },
    {
      "cell_type": "code",
      "metadata": {
        "id": "kpoQ9QeMvGQ3",
        "colab_type": "code",
        "colab": {}
      },
      "source": [
        "learning_rate = 0.001"
      ],
      "execution_count": 0,
      "outputs": []
    },
    {
      "cell_type": "code",
      "metadata": {
        "id": "HDFXAF4IvQPH",
        "colab_type": "code",
        "outputId": "7915391e-4d81-4363-d1e2-8e9081d9134d",
        "colab": {
          "base_uri": "https://localhost:8080/",
          "height": 73
        }
      },
      "source": [
        "tvars = tf.trainable_variables()\n",
        "\n",
        "d_vars = [var for var in tvars if 'dis' in var.name]\n",
        "g_vars = [var for var in tvars if 'gen' in var.name]\n",
        "\n",
        "print([v.name for v in d_vars])\n",
        "print([v.name for v in g_vars])"
      ],
      "execution_count": 39,
      "outputs": [
        {
          "output_type": "stream",
          "text": [
            "['dis/dense/kernel:0', 'dis/dense/bias:0', 'dis/dense_1/kernel:0', 'dis/dense_1/bias:0', 'dis/dense_2/kernel:0', 'dis/dense_2/bias:0']\n",
            "['gen/dense/kernel:0', 'gen/dense/bias:0', 'gen/dense_1/kernel:0', 'gen/dense_1/bias:0', 'gen/dense_2/kernel:0', 'gen/dense_2/bias:0']\n"
          ],
          "name": "stdout"
        }
      ]
    },
    {
      "cell_type": "code",
      "metadata": {
        "id": "uXflnvB4vUdI",
        "colab_type": "code",
        "colab": {}
      },
      "source": [
        "D_trainer = tf.train.AdamOptimizer(learning_rate).minimize(D_loss, var_list=d_vars)\n",
        "G_trainer = tf.train.AdamOptimizer(learning_rate).minimize(G_loss, var_list=g_vars)"
      ],
      "execution_count": 0,
      "outputs": []
    },
    {
      "cell_type": "code",
      "metadata": {
        "id": "Yr9UrEkNxIBD",
        "colab_type": "code",
        "colab": {}
      },
      "source": [
        "batch_size = 100\n",
        "epochs = 500\n",
        "init = tf.global_variables_initializer()\n",
        "saver = tf.train.Saver(var_list=g_vars)"
      ],
      "execution_count": 0,
      "outputs": []
    },
    {
      "cell_type": "code",
      "metadata": {
        "id": "GbLJ749xcRdz",
        "colab_type": "code",
        "colab": {}
      },
      "source": [
        "# Save a sample per epoch\n",
        "samples = []"
      ],
      "execution_count": 0,
      "outputs": []
    },
    {
      "cell_type": "code",
      "metadata": {
        "id": "uYoBY0OVcUm6",
        "colab_type": "code",
        "colab": {
          "base_uri": "https://localhost:8080/",
          "height": 1000
        },
        "outputId": "6d6aa5d5-3b4c-45bb-f92e-bc049990330b"
      },
      "source": [
        "with tf.Session() as sess:\n",
        "    \n",
        "    sess.run(init)\n",
        "    \n",
        "    for e in range(epochs):\n",
        "        \n",
        "        num_batches = mnist.train.num_examples // batch_size\n",
        "        \n",
        "        for i in range(num_batches):\n",
        "            \n",
        "            # Grab batch of images\n",
        "            batch = mnist.train.next_batch(batch_size)\n",
        "            \n",
        "            # Get images, reshape and rescale to pass to D\n",
        "            batch_images = batch[0].reshape((batch_size, 784))\n",
        "            batch_images = batch_images*2 - 1\n",
        "            \n",
        "            # Z (random latent noise data for Generator)\n",
        "            # -1 to 1 because of tanh activation\n",
        "            batch_z = np.random.uniform(-1, 1, size=(batch_size, 100))\n",
        "            \n",
        "            # Run optimizers, no need to save outputs, we won't use them\n",
        "            _ = sess.run(D_trainer, feed_dict={real_images: batch_images, z: batch_z})\n",
        "            _ = sess.run(G_trainer, feed_dict={z: batch_z})\n",
        "        \n",
        "            \n",
        "        print(\"Currently on Epoch {} of {} total...\".format(e+1, epochs))\n",
        "        \n",
        "        # Sample from generator as we're training for viewing afterwards\n",
        "        sample_z = np.random.uniform(-1, 1, size=(1, 100))\n",
        "        gen_sample = sess.run(generator(z ,reuse=True),feed_dict={z: sample_z})\n",
        "        \n",
        "        samples.append(gen_sample)\n",
        "\n",
        "    saver.save(sess, './models/500_epoch_model.ckpt')"
      ],
      "execution_count": 43,
      "outputs": [
        {
          "output_type": "stream",
          "text": [
            "Currently on Epoch 1 of 500 total...\n",
            "Currently on Epoch 2 of 500 total...\n",
            "Currently on Epoch 3 of 500 total...\n",
            "Currently on Epoch 4 of 500 total...\n",
            "Currently on Epoch 5 of 500 total...\n",
            "Currently on Epoch 6 of 500 total...\n",
            "Currently on Epoch 7 of 500 total...\n",
            "Currently on Epoch 8 of 500 total...\n",
            "Currently on Epoch 9 of 500 total...\n",
            "Currently on Epoch 10 of 500 total...\n",
            "Currently on Epoch 11 of 500 total...\n",
            "Currently on Epoch 12 of 500 total...\n",
            "Currently on Epoch 13 of 500 total...\n",
            "Currently on Epoch 14 of 500 total...\n",
            "Currently on Epoch 15 of 500 total...\n",
            "Currently on Epoch 16 of 500 total...\n",
            "Currently on Epoch 17 of 500 total...\n",
            "Currently on Epoch 18 of 500 total...\n",
            "Currently on Epoch 19 of 500 total...\n",
            "Currently on Epoch 20 of 500 total...\n",
            "Currently on Epoch 21 of 500 total...\n",
            "Currently on Epoch 22 of 500 total...\n",
            "Currently on Epoch 23 of 500 total...\n",
            "Currently on Epoch 24 of 500 total...\n",
            "Currently on Epoch 25 of 500 total...\n",
            "Currently on Epoch 26 of 500 total...\n",
            "Currently on Epoch 27 of 500 total...\n",
            "Currently on Epoch 28 of 500 total...\n",
            "Currently on Epoch 29 of 500 total...\n",
            "Currently on Epoch 30 of 500 total...\n",
            "Currently on Epoch 31 of 500 total...\n",
            "Currently on Epoch 32 of 500 total...\n",
            "Currently on Epoch 33 of 500 total...\n",
            "Currently on Epoch 34 of 500 total...\n",
            "Currently on Epoch 35 of 500 total...\n",
            "Currently on Epoch 36 of 500 total...\n",
            "Currently on Epoch 37 of 500 total...\n",
            "Currently on Epoch 38 of 500 total...\n",
            "Currently on Epoch 39 of 500 total...\n",
            "Currently on Epoch 40 of 500 total...\n",
            "Currently on Epoch 41 of 500 total...\n",
            "Currently on Epoch 42 of 500 total...\n",
            "Currently on Epoch 43 of 500 total...\n",
            "Currently on Epoch 44 of 500 total...\n",
            "Currently on Epoch 45 of 500 total...\n",
            "Currently on Epoch 46 of 500 total...\n",
            "Currently on Epoch 47 of 500 total...\n",
            "Currently on Epoch 48 of 500 total...\n",
            "Currently on Epoch 49 of 500 total...\n",
            "Currently on Epoch 50 of 500 total...\n",
            "Currently on Epoch 51 of 500 total...\n",
            "Currently on Epoch 52 of 500 total...\n",
            "Currently on Epoch 53 of 500 total...\n",
            "Currently on Epoch 54 of 500 total...\n",
            "Currently on Epoch 55 of 500 total...\n",
            "Currently on Epoch 56 of 500 total...\n",
            "Currently on Epoch 57 of 500 total...\n",
            "Currently on Epoch 58 of 500 total...\n",
            "Currently on Epoch 59 of 500 total...\n",
            "Currently on Epoch 60 of 500 total...\n",
            "Currently on Epoch 61 of 500 total...\n",
            "Currently on Epoch 62 of 500 total...\n",
            "Currently on Epoch 63 of 500 total...\n",
            "Currently on Epoch 64 of 500 total...\n",
            "Currently on Epoch 65 of 500 total...\n",
            "Currently on Epoch 66 of 500 total...\n",
            "Currently on Epoch 67 of 500 total...\n",
            "Currently on Epoch 68 of 500 total...\n",
            "Currently on Epoch 69 of 500 total...\n",
            "Currently on Epoch 70 of 500 total...\n",
            "Currently on Epoch 71 of 500 total...\n",
            "Currently on Epoch 72 of 500 total...\n",
            "Currently on Epoch 73 of 500 total...\n",
            "Currently on Epoch 74 of 500 total...\n",
            "Currently on Epoch 75 of 500 total...\n",
            "Currently on Epoch 76 of 500 total...\n",
            "Currently on Epoch 77 of 500 total...\n",
            "Currently on Epoch 78 of 500 total...\n",
            "Currently on Epoch 79 of 500 total...\n",
            "Currently on Epoch 80 of 500 total...\n",
            "Currently on Epoch 81 of 500 total...\n",
            "Currently on Epoch 82 of 500 total...\n",
            "Currently on Epoch 83 of 500 total...\n",
            "Currently on Epoch 84 of 500 total...\n",
            "Currently on Epoch 85 of 500 total...\n",
            "Currently on Epoch 86 of 500 total...\n",
            "Currently on Epoch 87 of 500 total...\n",
            "Currently on Epoch 88 of 500 total...\n",
            "Currently on Epoch 89 of 500 total...\n",
            "Currently on Epoch 90 of 500 total...\n",
            "Currently on Epoch 91 of 500 total...\n",
            "Currently on Epoch 92 of 500 total...\n",
            "Currently on Epoch 93 of 500 total...\n",
            "Currently on Epoch 94 of 500 total...\n",
            "Currently on Epoch 95 of 500 total...\n",
            "Currently on Epoch 96 of 500 total...\n",
            "Currently on Epoch 97 of 500 total...\n",
            "Currently on Epoch 98 of 500 total...\n",
            "Currently on Epoch 99 of 500 total...\n",
            "Currently on Epoch 100 of 500 total...\n",
            "Currently on Epoch 101 of 500 total...\n",
            "Currently on Epoch 102 of 500 total...\n",
            "Currently on Epoch 103 of 500 total...\n",
            "Currently on Epoch 104 of 500 total...\n",
            "Currently on Epoch 105 of 500 total...\n",
            "Currently on Epoch 106 of 500 total...\n",
            "Currently on Epoch 107 of 500 total...\n",
            "Currently on Epoch 108 of 500 total...\n",
            "Currently on Epoch 109 of 500 total...\n",
            "Currently on Epoch 110 of 500 total...\n",
            "Currently on Epoch 111 of 500 total...\n",
            "Currently on Epoch 112 of 500 total...\n",
            "Currently on Epoch 113 of 500 total...\n",
            "Currently on Epoch 114 of 500 total...\n",
            "Currently on Epoch 115 of 500 total...\n",
            "Currently on Epoch 116 of 500 total...\n",
            "Currently on Epoch 117 of 500 total...\n",
            "Currently on Epoch 118 of 500 total...\n",
            "Currently on Epoch 119 of 500 total...\n",
            "Currently on Epoch 120 of 500 total...\n",
            "Currently on Epoch 121 of 500 total...\n",
            "Currently on Epoch 122 of 500 total...\n",
            "Currently on Epoch 123 of 500 total...\n",
            "Currently on Epoch 124 of 500 total...\n",
            "Currently on Epoch 125 of 500 total...\n",
            "Currently on Epoch 126 of 500 total...\n",
            "Currently on Epoch 127 of 500 total...\n",
            "Currently on Epoch 128 of 500 total...\n",
            "Currently on Epoch 129 of 500 total...\n",
            "Currently on Epoch 130 of 500 total...\n",
            "Currently on Epoch 131 of 500 total...\n",
            "Currently on Epoch 132 of 500 total...\n",
            "Currently on Epoch 133 of 500 total...\n",
            "Currently on Epoch 134 of 500 total...\n",
            "Currently on Epoch 135 of 500 total...\n",
            "Currently on Epoch 136 of 500 total...\n",
            "Currently on Epoch 137 of 500 total...\n",
            "Currently on Epoch 138 of 500 total...\n",
            "Currently on Epoch 139 of 500 total...\n",
            "Currently on Epoch 140 of 500 total...\n",
            "Currently on Epoch 141 of 500 total...\n",
            "Currently on Epoch 142 of 500 total...\n",
            "Currently on Epoch 143 of 500 total...\n",
            "Currently on Epoch 144 of 500 total...\n",
            "Currently on Epoch 145 of 500 total...\n",
            "Currently on Epoch 146 of 500 total...\n",
            "Currently on Epoch 147 of 500 total...\n",
            "Currently on Epoch 148 of 500 total...\n",
            "Currently on Epoch 149 of 500 total...\n",
            "Currently on Epoch 150 of 500 total...\n",
            "Currently on Epoch 151 of 500 total...\n",
            "Currently on Epoch 152 of 500 total...\n",
            "Currently on Epoch 153 of 500 total...\n",
            "Currently on Epoch 154 of 500 total...\n",
            "Currently on Epoch 155 of 500 total...\n",
            "Currently on Epoch 156 of 500 total...\n",
            "Currently on Epoch 157 of 500 total...\n",
            "Currently on Epoch 158 of 500 total...\n",
            "Currently on Epoch 159 of 500 total...\n",
            "Currently on Epoch 160 of 500 total...\n",
            "Currently on Epoch 161 of 500 total...\n",
            "Currently on Epoch 162 of 500 total...\n",
            "Currently on Epoch 163 of 500 total...\n",
            "Currently on Epoch 164 of 500 total...\n",
            "Currently on Epoch 165 of 500 total...\n",
            "Currently on Epoch 166 of 500 total...\n",
            "Currently on Epoch 167 of 500 total...\n",
            "Currently on Epoch 168 of 500 total...\n",
            "Currently on Epoch 169 of 500 total...\n",
            "Currently on Epoch 170 of 500 total...\n",
            "Currently on Epoch 171 of 500 total...\n",
            "Currently on Epoch 172 of 500 total...\n",
            "Currently on Epoch 173 of 500 total...\n",
            "Currently on Epoch 174 of 500 total...\n",
            "Currently on Epoch 175 of 500 total...\n",
            "Currently on Epoch 176 of 500 total...\n",
            "Currently on Epoch 177 of 500 total...\n",
            "Currently on Epoch 178 of 500 total...\n",
            "Currently on Epoch 179 of 500 total...\n",
            "Currently on Epoch 180 of 500 total...\n",
            "Currently on Epoch 181 of 500 total...\n",
            "Currently on Epoch 182 of 500 total...\n",
            "Currently on Epoch 183 of 500 total...\n",
            "Currently on Epoch 184 of 500 total...\n",
            "Currently on Epoch 185 of 500 total...\n",
            "Currently on Epoch 186 of 500 total...\n",
            "Currently on Epoch 187 of 500 total...\n",
            "Currently on Epoch 188 of 500 total...\n",
            "Currently on Epoch 189 of 500 total...\n",
            "Currently on Epoch 190 of 500 total...\n",
            "Currently on Epoch 191 of 500 total...\n",
            "Currently on Epoch 192 of 500 total...\n",
            "Currently on Epoch 193 of 500 total...\n",
            "Currently on Epoch 194 of 500 total...\n",
            "Currently on Epoch 195 of 500 total...\n",
            "Currently on Epoch 196 of 500 total...\n",
            "Currently on Epoch 197 of 500 total...\n",
            "Currently on Epoch 198 of 500 total...\n",
            "Currently on Epoch 199 of 500 total...\n",
            "Currently on Epoch 200 of 500 total...\n",
            "Currently on Epoch 201 of 500 total...\n",
            "Currently on Epoch 202 of 500 total...\n",
            "Currently on Epoch 203 of 500 total...\n",
            "Currently on Epoch 204 of 500 total...\n",
            "Currently on Epoch 205 of 500 total...\n",
            "Currently on Epoch 206 of 500 total...\n",
            "Currently on Epoch 207 of 500 total...\n",
            "Currently on Epoch 208 of 500 total...\n",
            "Currently on Epoch 209 of 500 total...\n",
            "Currently on Epoch 210 of 500 total...\n",
            "Currently on Epoch 211 of 500 total...\n",
            "Currently on Epoch 212 of 500 total...\n",
            "Currently on Epoch 213 of 500 total...\n",
            "Currently on Epoch 214 of 500 total...\n",
            "Currently on Epoch 215 of 500 total...\n",
            "Currently on Epoch 216 of 500 total...\n",
            "Currently on Epoch 217 of 500 total...\n",
            "Currently on Epoch 218 of 500 total...\n",
            "Currently on Epoch 219 of 500 total...\n",
            "Currently on Epoch 220 of 500 total...\n",
            "Currently on Epoch 221 of 500 total...\n",
            "Currently on Epoch 222 of 500 total...\n",
            "Currently on Epoch 223 of 500 total...\n",
            "Currently on Epoch 224 of 500 total...\n",
            "Currently on Epoch 225 of 500 total...\n",
            "Currently on Epoch 226 of 500 total...\n",
            "Currently on Epoch 227 of 500 total...\n",
            "Currently on Epoch 228 of 500 total...\n",
            "Currently on Epoch 229 of 500 total...\n",
            "Currently on Epoch 230 of 500 total...\n",
            "Currently on Epoch 231 of 500 total...\n",
            "Currently on Epoch 232 of 500 total...\n",
            "Currently on Epoch 233 of 500 total...\n",
            "Currently on Epoch 234 of 500 total...\n",
            "Currently on Epoch 235 of 500 total...\n",
            "Currently on Epoch 236 of 500 total...\n",
            "Currently on Epoch 237 of 500 total...\n",
            "Currently on Epoch 238 of 500 total...\n",
            "Currently on Epoch 239 of 500 total...\n",
            "Currently on Epoch 240 of 500 total...\n",
            "Currently on Epoch 241 of 500 total...\n",
            "Currently on Epoch 242 of 500 total...\n",
            "Currently on Epoch 243 of 500 total...\n",
            "Currently on Epoch 244 of 500 total...\n",
            "Currently on Epoch 245 of 500 total...\n",
            "Currently on Epoch 246 of 500 total...\n",
            "Currently on Epoch 247 of 500 total...\n",
            "Currently on Epoch 248 of 500 total...\n",
            "Currently on Epoch 249 of 500 total...\n",
            "Currently on Epoch 250 of 500 total...\n",
            "Currently on Epoch 251 of 500 total...\n",
            "Currently on Epoch 252 of 500 total...\n",
            "Currently on Epoch 253 of 500 total...\n",
            "Currently on Epoch 254 of 500 total...\n",
            "Currently on Epoch 255 of 500 total...\n",
            "Currently on Epoch 256 of 500 total...\n",
            "Currently on Epoch 257 of 500 total...\n",
            "Currently on Epoch 258 of 500 total...\n",
            "Currently on Epoch 259 of 500 total...\n",
            "Currently on Epoch 260 of 500 total...\n",
            "Currently on Epoch 261 of 500 total...\n",
            "Currently on Epoch 262 of 500 total...\n",
            "Currently on Epoch 263 of 500 total...\n",
            "Currently on Epoch 264 of 500 total...\n",
            "Currently on Epoch 265 of 500 total...\n",
            "Currently on Epoch 266 of 500 total...\n",
            "Currently on Epoch 267 of 500 total...\n",
            "Currently on Epoch 268 of 500 total...\n",
            "Currently on Epoch 269 of 500 total...\n",
            "Currently on Epoch 270 of 500 total...\n",
            "Currently on Epoch 271 of 500 total...\n",
            "Currently on Epoch 272 of 500 total...\n",
            "Currently on Epoch 273 of 500 total...\n",
            "Currently on Epoch 274 of 500 total...\n",
            "Currently on Epoch 275 of 500 total...\n",
            "Currently on Epoch 276 of 500 total...\n",
            "Currently on Epoch 277 of 500 total...\n",
            "Currently on Epoch 278 of 500 total...\n",
            "Currently on Epoch 279 of 500 total...\n",
            "Currently on Epoch 280 of 500 total...\n",
            "Currently on Epoch 281 of 500 total...\n",
            "Currently on Epoch 282 of 500 total...\n",
            "Currently on Epoch 283 of 500 total...\n",
            "Currently on Epoch 284 of 500 total...\n",
            "Currently on Epoch 285 of 500 total...\n",
            "Currently on Epoch 286 of 500 total...\n",
            "Currently on Epoch 287 of 500 total...\n",
            "Currently on Epoch 288 of 500 total...\n",
            "Currently on Epoch 289 of 500 total...\n",
            "Currently on Epoch 290 of 500 total...\n",
            "Currently on Epoch 291 of 500 total...\n",
            "Currently on Epoch 292 of 500 total...\n",
            "Currently on Epoch 293 of 500 total...\n",
            "Currently on Epoch 294 of 500 total...\n",
            "Currently on Epoch 295 of 500 total...\n",
            "Currently on Epoch 296 of 500 total...\n",
            "Currently on Epoch 297 of 500 total...\n",
            "Currently on Epoch 298 of 500 total...\n",
            "Currently on Epoch 299 of 500 total...\n",
            "Currently on Epoch 300 of 500 total...\n",
            "Currently on Epoch 301 of 500 total...\n",
            "Currently on Epoch 302 of 500 total...\n",
            "Currently on Epoch 303 of 500 total...\n",
            "Currently on Epoch 304 of 500 total...\n",
            "Currently on Epoch 305 of 500 total...\n",
            "Currently on Epoch 306 of 500 total...\n",
            "Currently on Epoch 307 of 500 total...\n",
            "Currently on Epoch 308 of 500 total...\n",
            "Currently on Epoch 309 of 500 total...\n",
            "Currently on Epoch 310 of 500 total...\n",
            "Currently on Epoch 311 of 500 total...\n",
            "Currently on Epoch 312 of 500 total...\n",
            "Currently on Epoch 313 of 500 total...\n",
            "Currently on Epoch 314 of 500 total...\n",
            "Currently on Epoch 315 of 500 total...\n",
            "Currently on Epoch 316 of 500 total...\n",
            "Currently on Epoch 317 of 500 total...\n",
            "Currently on Epoch 318 of 500 total...\n",
            "Currently on Epoch 319 of 500 total...\n",
            "Currently on Epoch 320 of 500 total...\n",
            "Currently on Epoch 321 of 500 total...\n",
            "Currently on Epoch 322 of 500 total...\n",
            "Currently on Epoch 323 of 500 total...\n",
            "Currently on Epoch 324 of 500 total...\n",
            "Currently on Epoch 325 of 500 total...\n",
            "Currently on Epoch 326 of 500 total...\n",
            "Currently on Epoch 327 of 500 total...\n",
            "Currently on Epoch 328 of 500 total...\n",
            "Currently on Epoch 329 of 500 total...\n",
            "Currently on Epoch 330 of 500 total...\n",
            "Currently on Epoch 331 of 500 total...\n",
            "Currently on Epoch 332 of 500 total...\n",
            "Currently on Epoch 333 of 500 total...\n",
            "Currently on Epoch 334 of 500 total...\n",
            "Currently on Epoch 335 of 500 total...\n",
            "Currently on Epoch 336 of 500 total...\n",
            "Currently on Epoch 337 of 500 total...\n",
            "Currently on Epoch 338 of 500 total...\n",
            "Currently on Epoch 339 of 500 total...\n",
            "Currently on Epoch 340 of 500 total...\n",
            "Currently on Epoch 341 of 500 total...\n",
            "Currently on Epoch 342 of 500 total...\n",
            "Currently on Epoch 343 of 500 total...\n",
            "Currently on Epoch 344 of 500 total...\n",
            "Currently on Epoch 345 of 500 total...\n",
            "Currently on Epoch 346 of 500 total...\n",
            "Currently on Epoch 347 of 500 total...\n",
            "Currently on Epoch 348 of 500 total...\n",
            "Currently on Epoch 349 of 500 total...\n",
            "Currently on Epoch 350 of 500 total...\n",
            "Currently on Epoch 351 of 500 total...\n",
            "Currently on Epoch 352 of 500 total...\n",
            "Currently on Epoch 353 of 500 total...\n",
            "Currently on Epoch 354 of 500 total...\n",
            "Currently on Epoch 355 of 500 total...\n",
            "Currently on Epoch 356 of 500 total...\n",
            "Currently on Epoch 357 of 500 total...\n",
            "Currently on Epoch 358 of 500 total...\n",
            "Currently on Epoch 359 of 500 total...\n",
            "Currently on Epoch 360 of 500 total...\n",
            "Currently on Epoch 361 of 500 total...\n",
            "Currently on Epoch 362 of 500 total...\n",
            "Currently on Epoch 363 of 500 total...\n",
            "Currently on Epoch 364 of 500 total...\n",
            "Currently on Epoch 365 of 500 total...\n",
            "Currently on Epoch 366 of 500 total...\n",
            "Currently on Epoch 367 of 500 total...\n",
            "Currently on Epoch 368 of 500 total...\n",
            "Currently on Epoch 369 of 500 total...\n",
            "Currently on Epoch 370 of 500 total...\n",
            "Currently on Epoch 371 of 500 total...\n",
            "Currently on Epoch 372 of 500 total...\n",
            "Currently on Epoch 373 of 500 total...\n",
            "Currently on Epoch 374 of 500 total...\n",
            "Currently on Epoch 375 of 500 total...\n",
            "Currently on Epoch 376 of 500 total...\n",
            "Currently on Epoch 377 of 500 total...\n",
            "Currently on Epoch 378 of 500 total...\n",
            "Currently on Epoch 379 of 500 total...\n",
            "Currently on Epoch 380 of 500 total...\n",
            "Currently on Epoch 381 of 500 total...\n",
            "Currently on Epoch 382 of 500 total...\n",
            "Currently on Epoch 383 of 500 total...\n",
            "Currently on Epoch 384 of 500 total...\n",
            "Currently on Epoch 385 of 500 total...\n",
            "Currently on Epoch 386 of 500 total...\n",
            "Currently on Epoch 387 of 500 total...\n",
            "Currently on Epoch 388 of 500 total...\n",
            "Currently on Epoch 389 of 500 total...\n",
            "Currently on Epoch 390 of 500 total...\n",
            "Currently on Epoch 391 of 500 total...\n",
            "Currently on Epoch 392 of 500 total...\n",
            "Currently on Epoch 393 of 500 total...\n",
            "Currently on Epoch 394 of 500 total...\n",
            "Currently on Epoch 395 of 500 total...\n",
            "Currently on Epoch 396 of 500 total...\n",
            "Currently on Epoch 397 of 500 total...\n",
            "Currently on Epoch 398 of 500 total...\n",
            "Currently on Epoch 399 of 500 total...\n",
            "Currently on Epoch 400 of 500 total...\n",
            "Currently on Epoch 401 of 500 total...\n",
            "Currently on Epoch 402 of 500 total...\n",
            "Currently on Epoch 403 of 500 total...\n",
            "Currently on Epoch 404 of 500 total...\n",
            "Currently on Epoch 405 of 500 total...\n",
            "Currently on Epoch 406 of 500 total...\n",
            "Currently on Epoch 407 of 500 total...\n",
            "Currently on Epoch 408 of 500 total...\n",
            "Currently on Epoch 409 of 500 total...\n",
            "Currently on Epoch 410 of 500 total...\n",
            "Currently on Epoch 411 of 500 total...\n",
            "Currently on Epoch 412 of 500 total...\n",
            "Currently on Epoch 413 of 500 total...\n",
            "Currently on Epoch 414 of 500 total...\n",
            "Currently on Epoch 415 of 500 total...\n",
            "Currently on Epoch 416 of 500 total...\n",
            "Currently on Epoch 417 of 500 total...\n",
            "Currently on Epoch 418 of 500 total...\n",
            "Currently on Epoch 419 of 500 total...\n",
            "Currently on Epoch 420 of 500 total...\n",
            "Currently on Epoch 421 of 500 total...\n",
            "Currently on Epoch 422 of 500 total...\n",
            "Currently on Epoch 423 of 500 total...\n",
            "Currently on Epoch 424 of 500 total...\n",
            "Currently on Epoch 425 of 500 total...\n",
            "Currently on Epoch 426 of 500 total...\n",
            "Currently on Epoch 427 of 500 total...\n",
            "Currently on Epoch 428 of 500 total...\n",
            "Currently on Epoch 429 of 500 total...\n",
            "Currently on Epoch 430 of 500 total...\n",
            "Currently on Epoch 431 of 500 total...\n",
            "Currently on Epoch 432 of 500 total...\n",
            "Currently on Epoch 433 of 500 total...\n",
            "Currently on Epoch 434 of 500 total...\n",
            "Currently on Epoch 435 of 500 total...\n",
            "Currently on Epoch 436 of 500 total...\n",
            "Currently on Epoch 437 of 500 total...\n",
            "Currently on Epoch 438 of 500 total...\n",
            "Currently on Epoch 439 of 500 total...\n",
            "Currently on Epoch 440 of 500 total...\n",
            "Currently on Epoch 441 of 500 total...\n",
            "Currently on Epoch 442 of 500 total...\n",
            "Currently on Epoch 443 of 500 total...\n",
            "Currently on Epoch 444 of 500 total...\n",
            "Currently on Epoch 445 of 500 total...\n",
            "Currently on Epoch 446 of 500 total...\n",
            "Currently on Epoch 447 of 500 total...\n",
            "Currently on Epoch 448 of 500 total...\n",
            "Currently on Epoch 449 of 500 total...\n",
            "Currently on Epoch 450 of 500 total...\n",
            "Currently on Epoch 451 of 500 total...\n",
            "Currently on Epoch 452 of 500 total...\n",
            "Currently on Epoch 453 of 500 total...\n",
            "Currently on Epoch 454 of 500 total...\n",
            "Currently on Epoch 455 of 500 total...\n",
            "Currently on Epoch 456 of 500 total...\n",
            "Currently on Epoch 457 of 500 total...\n",
            "Currently on Epoch 458 of 500 total...\n",
            "Currently on Epoch 459 of 500 total...\n",
            "Currently on Epoch 460 of 500 total...\n",
            "Currently on Epoch 461 of 500 total...\n",
            "Currently on Epoch 462 of 500 total...\n",
            "Currently on Epoch 463 of 500 total...\n",
            "Currently on Epoch 464 of 500 total...\n",
            "Currently on Epoch 465 of 500 total...\n",
            "Currently on Epoch 466 of 500 total...\n",
            "Currently on Epoch 467 of 500 total...\n",
            "Currently on Epoch 468 of 500 total...\n",
            "Currently on Epoch 469 of 500 total...\n",
            "Currently on Epoch 470 of 500 total...\n",
            "Currently on Epoch 471 of 500 total...\n",
            "Currently on Epoch 472 of 500 total...\n",
            "Currently on Epoch 473 of 500 total...\n",
            "Currently on Epoch 474 of 500 total...\n",
            "Currently on Epoch 475 of 500 total...\n",
            "Currently on Epoch 476 of 500 total...\n",
            "Currently on Epoch 477 of 500 total...\n",
            "Currently on Epoch 478 of 500 total...\n",
            "Currently on Epoch 479 of 500 total...\n",
            "Currently on Epoch 480 of 500 total...\n",
            "Currently on Epoch 481 of 500 total...\n",
            "Currently on Epoch 482 of 500 total...\n",
            "Currently on Epoch 483 of 500 total...\n",
            "Currently on Epoch 484 of 500 total...\n",
            "Currently on Epoch 485 of 500 total...\n",
            "Currently on Epoch 486 of 500 total...\n",
            "Currently on Epoch 487 of 500 total...\n",
            "Currently on Epoch 488 of 500 total...\n",
            "Currently on Epoch 489 of 500 total...\n",
            "Currently on Epoch 490 of 500 total...\n",
            "Currently on Epoch 491 of 500 total...\n",
            "Currently on Epoch 492 of 500 total...\n",
            "Currently on Epoch 493 of 500 total...\n",
            "Currently on Epoch 494 of 500 total...\n",
            "Currently on Epoch 495 of 500 total...\n",
            "Currently on Epoch 496 of 500 total...\n",
            "Currently on Epoch 497 of 500 total...\n",
            "Currently on Epoch 498 of 500 total...\n",
            "Currently on Epoch 499 of 500 total...\n",
            "Currently on Epoch 500 of 500 total...\n"
          ],
          "name": "stdout"
        }
      ]
    },
    {
      "cell_type": "code",
      "metadata": {
        "id": "z8mMM5OAc3Eq",
        "colab_type": "code",
        "colab": {
          "base_uri": "https://localhost:8080/",
          "height": 108
        },
        "outputId": "9bd1b765-0a97-4280-b504-dccf1dd4caf3"
      },
      "source": [
        "!zip -r /content/GANMNISTmodel.zip ./models/"
      ],
      "execution_count": 46,
      "outputs": [
        {
          "output_type": "stream",
          "text": [
            "  adding: models/ (stored 0%)\n",
            "  adding: models/500_epoch_model.ckpt.data-00000-of-00001 (deflated 7%)\n",
            "  adding: models/500_epoch_model.ckpt.meta (deflated 93%)\n",
            "  adding: models/checkpoint (deflated 43%)\n",
            "  adding: models/500_epoch_model.ckpt.index (deflated 37%)\n"
          ],
          "name": "stdout"
        }
      ]
    },
    {
      "cell_type": "code",
      "metadata": {
        "id": "zMNgTylZkBTk",
        "colab_type": "code",
        "colab": {
          "base_uri": "https://localhost:8080/",
          "height": 92
        },
        "outputId": "00c817bd-1c06-4e20-dd2b-bb475b66314c"
      },
      "source": [
        "saver = tf.train.Saver(var_list=g_vars)\n",
        "\n",
        "new_samples = []\n",
        "with tf.Session() as sess:\n",
        "    \n",
        "    saver.restore(sess,'./models/500_epoch_model.ckpt')\n",
        "    \n",
        "    for x in range(5):\n",
        "        sample_z = np.random.uniform(-1,1,size=(1,100))\n",
        "        gen_sample = sess.run(generator(z,reuse=True),feed_dict={z:sample_z})\n",
        "        \n",
        "        new_samples.append(gen_sample)"
      ],
      "execution_count": 47,
      "outputs": [
        {
          "output_type": "stream",
          "text": [
            "W0807 05:33:15.955515 140644722308992 deprecation.py:323] From /usr/local/lib/python3.6/dist-packages/tensorflow/python/training/saver.py:1276: checkpoint_exists (from tensorflow.python.training.checkpoint_management) is deprecated and will be removed in a future version.\n",
            "Instructions for updating:\n",
            "Use standard file APIs to check for files with this prefix.\n"
          ],
          "name": "stderr"
        }
      ]
    },
    {
      "cell_type": "code",
      "metadata": {
        "id": "ltu2ahVJkSO0",
        "colab_type": "code",
        "colab": {
          "base_uri": "https://localhost:8080/",
          "height": 287
        },
        "outputId": "e0de31b6-2eb2-4a1a-8939-db2f15cefaa0"
      },
      "source": [
        "plt.imshow(samples[0].reshape(28,28),cmap='Greys')"
      ],
      "execution_count": 48,
      "outputs": [
        {
          "output_type": "execute_result",
          "data": {
            "text/plain": [
              "<matplotlib.image.AxesImage at 0x7fe9baf76ba8>"
            ]
          },
          "metadata": {
            "tags": []
          },
          "execution_count": 48
        },
        {
          "output_type": "display_data",
          "data": {
            "image/png": "[encoded data removed]",
            "text/plain": [
              "<Figure size 432x288 with 1 Axes>"
            ]
          },
          "metadata": {
            "tags": []
          }
        }
      ]
    },
    {
      "cell_type": "code",
      "metadata": {
        "id": "vBRprzAUkUgF",
        "colab_type": "code",
        "colab": {
          "base_uri": "https://localhost:8080/",
          "height": 287
        },
        "outputId": "e6ee477d-8b53-4aa8-a18d-f78627dfd041"
      },
      "source": [
        "plt.imshow(samples[100].reshape(28,28),cmap='Greys')"
      ],
      "execution_count": 49,
      "outputs": [
        {
          "output_type": "execute_result",
          "data": {
            "text/plain": [
              "<matplotlib.image.AxesImage at 0x7fe9babd2a20>"
            ]
          },
          "metadata": {
            "tags": []
          },
          "execution_count": 49
        },
        {
          "output_type": "display_data",
          "data": {
            "image/png": "[encoded data removed]",
            "text/plain": [
              "<Figure size 432x288 with 1 Axes>"
            ]
          },
          "metadata": {
            "tags": []
          }
        }
      ]
    },
    {
      "cell_type": "code",
      "metadata": {
        "id": "eerjsJNakXQ0",
        "colab_type": "code",
        "colab": {
          "base_uri": "https://localhost:8080/",
          "height": 287
        },
        "outputId": "56a5fc0f-10a6-4f22-d476-b078c2c184ca"
      },
      "source": [
        "plt.imshow(samples[200].reshape(28,28),cmap='Greys')"
      ],
      "execution_count": 50,
      "outputs": [
        {
          "output_type": "execute_result",
          "data": {
            "text/plain": [
              "<matplotlib.image.AxesImage at 0x7fe9bb2e06d8>"
            ]
          },
          "metadata": {
            "tags": []
          },
          "execution_count": 50
        },
        {
          "output_type": "display_data",
          "data": {
            "image/png": "[encoded data removed]",
            "text/plain": [
              "<Figure size 432x288 with 1 Axes>"
            ]
          },
          "metadata": {
            "tags": []
          }
        }
      ]
    },
    {
      "cell_type": "code",
      "metadata": {
        "id": "orlbWQ9OkY9U",
        "colab_type": "code",
        "colab": {
          "base_uri": "https://localhost:8080/",
          "height": 287
        },
        "outputId": "f573bad5-2b81-4f20-ddaa-b5ef98f2054b"
      },
      "source": [
        "plt.imshow(samples[300].reshape(28,28),cmap='Greys')"
      ],
      "execution_count": 51,
      "outputs": [
        {
          "output_type": "execute_result",
          "data": {
            "text/plain": [
              "<matplotlib.image.AxesImage at 0x7fe9bb26c2b0>"
            ]
          },
          "metadata": {
            "tags": []
          },
          "execution_count": 51
        },
        {
          "output_type": "display_data",
          "data": {
            "image/png": "[encoded data removed]",
            "text/plain": [
              "<Figure size 432x288 with 1 Axes>"
            ]
          },
          "metadata": {
            "tags": []
          }
        }
      ]
    },
    {
      "cell_type": "code",
      "metadata": {
        "id": "uMKQ6mWLkbF5",
        "colab_type": "code",
        "colab": {
          "base_uri": "https://localhost:8080/",
          "height": 287
        },
        "outputId": "7e46164d-55e1-4a38-9794-6fce327e1fa3"
      },
      "source": [
        "plt.imshow(samples[400].reshape(28,28),cmap='Greys')"
      ],
      "execution_count": 52,
      "outputs": [
        {
          "output_type": "execute_result",
          "data": {
            "text/plain": [
              "<matplotlib.image.AxesImage at 0x7fe9bb1abeb8>"
            ]
          },
          "metadata": {
            "tags": []
          },
          "execution_count": 52
        },
        {
          "output_type": "display_data",
          "data": {
            "image/png": "[encoded data removed]",
            "text/plain": [
              "<Figure size 432x288 with 1 Axes>"
            ]
          },
          "metadata": {
            "tags": []
          }
        }
      ]
    },
    {
      "cell_type": "code",
      "metadata": {
        "id": "VSY5FzGbkcqs",
        "colab_type": "code",
        "colab": {
          "base_uri": "https://localhost:8080/",
          "height": 287
        },
        "outputId": "620a0073-7aa5-4456-d7f0-ae729b3f833b"
      },
      "source": [
        "plt.imshow(samples[498].reshape(28,28),cmap='Greys')"
      ],
      "execution_count": 54,
      "outputs": [
        {
          "output_type": "execute_result",
          "data": {
            "text/plain": [
              "<matplotlib.image.AxesImage at 0x7fe9bb00b6d8>"
            ]
          },
          "metadata": {
            "tags": []
          },
          "execution_count": 54
        },
        {
          "output_type": "display_data",
          "data": {
            "image/png": "[encoded data removed]",
            "text/plain": [
              "<Figure size 432x288 with 1 Axes>"
            ]
          },
          "metadata": {
            "tags": []
          }
        }
      ]
    },
    {
      "cell_type": "code",
      "metadata": {
        "id": "HRUHIkBgkeTQ",
        "colab_type": "code",
        "colab": {}
      },
      "source": [
        ""
      ],
      "execution_count": 0,
      "outputs": []
    }
  ]
}